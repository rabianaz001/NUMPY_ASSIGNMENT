{
 "cells": [
  {
   "cell_type": "markdown",
   "id": "81e5f924-a22b-422c-a824-75d5b71bce55",
   "metadata": {},
   "source": [
    "# 1. What is a Python library? Why do we use Python libraries?\n",
    "\n",
    "A Python library is a collection of functions and methods that allows you to perform many actions without writing your own code.\n",
    "\n",
    "We use Python Libraries for -\n",
    "\n",
    "* Reusability: Libraries provide pre-written code for common tasks, allowing developers to avoid reinventing the wheel. This saves time and effort, promoting code efficiency and maintainability.\n",
    "\n",
    "* Functionality: Libraries extend Python's capabilities beyond its built-in functions. They offer specialized tools and algorithms for various domains such as data analysis, machine learning, web development, scientific computing, and more.\n",
    "\n",
    "* Community Contribution: Python libraries are often open-source and developed collaboratively by a community of programmers. This results in high-quality, well-tested code that benefits from collective expertise and continuous improvement.\n",
    "\n",
    "* Performance: Many Python libraries are implemented in efficient, compiled languages like C or C++, which can significantly improve performance compared to pure Python implementations.\n",
    "\n",
    "* Integration: Libraries provide interfaces to interact with external services, APIs, and databases, enabling seamless integration of Python applications with other software systems.\n",
    "\n",
    "* Standardization: Popular libraries often establish de facto standards and best practices within their respective domains, fostering consistency and interoperability among developers.\n",
    "\n",
    "# Examples of Python Libraries:\n",
    "*  NumPy: For numerical computing with arrays and matrices.\n",
    "* Pandas: For data manipulation and analysis.\n",
    "* Matplotlib and Seaborn: For data visualization.\n",
    "* Requests: For making HTTP requests.\n",
    "* Scikit-learn: For machine learning tasks.\n",
    "* Django and Flask: For web development.\n"
   ]
  },
  {
   "cell_type": "markdown",
   "id": "12544b0d-a153-4289-903e-4b1e3596a053",
   "metadata": {},
   "source": [
    "# 2. What is the difference between Numpy array and List?\n",
    "\n",
    "* Homogeneity vs. Heterogeneity: NumPy arrays are homogeneous and contain elements of the same data type, whereas lists in Python can contain elements of different data types.\n",
    "\n",
    "* Performance: NumPy arrays are more efficient for numerical operations due to their fixed type and optimized memory layout (contiguous block of memory), which allows for faster computation compared to lists.\n",
    "\n",
    "* Functionality: NumPy arrays provide extensive mathematical functions and operations tailored for numerical computing, while lists offer general-purpose data storage with more flexibility in terms of data types and operations."
   ]
  },
  {
   "cell_type": "markdown",
   "id": "1994571f-7862-4fd1-be29-4121a10da271",
   "metadata": {},
   "source": [
    "# 3. Find the shape, size and dimension of the following array?\n",
    "[[1, 2, 3, 4]\n",
    "\n",
    "[5, 6, 7, 8],\n",
    "\n",
    "[9, 10, 11, 12]]"
   ]
  },
  {
   "cell_type": "code",
   "execution_count": 23,
   "id": "296cbcda-7982-468e-8f4f-cf46e6286c25",
   "metadata": {},
   "outputs": [
    {
     "name": "stdout",
     "output_type": "stream",
     "text": [
      "Shape of the array: (3, 4)\n",
      "size of the array: 12\n"
     ]
    }
   ],
   "source": [
    "import numpy as np\n",
    "array = [[1, 2, 3, 4],\n",
    "       [5, 6, 7, 8],\n",
    "       [9, 10, 11, 12]]\n",
    "\n",
    "num_rows = len(arr)\n",
    "num_cols = len(arr[0])\n",
    "\n",
    "#shape of array\n",
    "shape = (num_rows,num_cols)\n",
    "print(\"Shape of the array:\" ,shape)\n",
    "\n",
    "#size of array\n",
    "size = num_rows*num_cols\n",
    "print(\"size of the array:\",size)\n",
    "\n"
   ]
  },
  {
   "cell_type": "code",
   "execution_count": 21,
   "id": "96a307f1-e91a-4283-b7bf-69b83825edf8",
   "metadata": {},
   "outputs": [
    {
     "name": "stdout",
     "output_type": "stream",
     "text": [
      "Dimension: 2\n"
     ]
    }
   ],
   "source": [
    "import numpy as np\n",
    "\n",
    "# Example NumPy array\n",
    "arr = np.array([[1, 2, 3, 4],\n",
    "                [5, 6, 7, 8],\n",
    "                [9, 10, 11, 12]])\n",
    "\n",
    "# Find the dimension of the array\n",
    "dimension = arr.ndim\n",
    "\n",
    "print(\"Dimension:\", dimension)  "
   ]
  },
  {
   "cell_type": "markdown",
   "id": "a269489e-b3dd-42de-93db-df83d8f41e25",
   "metadata": {},
   "source": [
    "# 4. Write python code to access the first row of the following array?\n",
    "[[1, 2, 3, 4]\n",
    "\n",
    "[5, 6, 7, 8],\n",
    "\n",
    "[9, 10, 11, 12]]"
   ]
  },
  {
   "cell_type": "code",
   "execution_count": 24,
   "id": "67a0b331-93a6-4a34-8fac-e35e0b2690d7",
   "metadata": {},
   "outputs": [
    {
     "name": "stdout",
     "output_type": "stream",
     "text": [
      "First Row (NumPy array): [1 2 3 4]\n"
     ]
    }
   ],
   "source": [
    "import numpy as np\n",
    "\n",
    "# Example NumPy array\n",
    "arr = np.array([[1, 2, 3, 4],\n",
    "                [5, 6, 7, 8],\n",
    "                [9, 10, 11, 12]])\n",
    "\n",
    "# Access the first row \n",
    "first_row = arr[0]\n",
    "\n",
    "print(\"First Row (NumPy array):\", first_row)  \n"
   ]
  },
  {
   "cell_type": "markdown",
   "id": "af9d2087-42f7-412d-b776-0a31bed2235e",
   "metadata": {},
   "source": [
    "# 5. How do you access the element at the third row and fourth column from the given numpy array?\n",
    "[[1, 2, 3, 4]\n",
    "\n",
    "[5, 6, 7, 8],\n",
    "\n",
    "[9, 10, 11, 12]]"
   ]
  },
  {
   "cell_type": "code",
   "execution_count": 25,
   "id": "e81a9395-37c2-41d4-9a47-8a71a5eb9a2e",
   "metadata": {},
   "outputs": [
    {
     "name": "stdout",
     "output_type": "stream",
     "text": [
      "Element at third row and fourth column: 12\n"
     ]
    }
   ],
   "source": [
    "import numpy as np\n",
    "\n",
    "# Given NumPy array\n",
    "arr = np.array([[1, 2, 3, 4],\n",
    "                [5, 6, 7, 8],\n",
    "                [9, 10, 11, 12]])\n",
    "\n",
    "# Access the element at the third row (index 2) and fourth column (index 3)\n",
    "element = arr[2, 3]\n",
    "\n",
    "print(\"Element at third row and fourth column:\", element)  \n"
   ]
  },
  {
   "cell_type": "markdown",
   "id": "ee346c24-6999-45f9-bbe0-9e3d306393de",
   "metadata": {},
   "source": [
    "# 6. Write code to extract all odd-indexed elements from the given numpy array?\n",
    "[[1, 2, 3, 4]\n",
    "\n",
    "[5, 6, 7, 8],\n",
    "\n",
    "[9, 10, 11, 12]]"
   ]
  },
  {
   "cell_type": "code",
   "execution_count": 30,
   "id": "36ba339e-0aa2-4f8f-9a3f-a7a0e588f711",
   "metadata": {},
   "outputs": [
    {
     "name": "stdout",
     "output_type": "stream",
     "text": [
      "Odd-indexed elements: [ 2  4  6  8 10 12]\n"
     ]
    }
   ],
   "source": [
    "import numpy as np\n",
    "\n",
    "# Given NumPy array\n",
    "arr = np.array([[1, 2, 3, 4],\n",
    "                [5, 6, 7, 8],\n",
    "                [9, 10, 11, 12]])\n",
    "\n",
    "# Extract all odd-indexed elements\n",
    "odd_indexed_elements = arr[:, 1::2].flatten()\n",
    "\n",
    "print(\"Odd-indexed elements:\", odd_indexed_elements)\n"
   ]
  },
  {
   "cell_type": "markdown",
   "id": "03240102-4660-478b-95e8-c28f567fb500",
   "metadata": {},
   "source": [
    "# 7. How can you generate a random 3x3 matrix with values between 0 and 1?"
   ]
  },
  {
   "cell_type": "code",
   "execution_count": 31,
   "id": "c5e37d53-690a-4a0c-ad03-867bc3494c1f",
   "metadata": {},
   "outputs": [
    {
     "name": "stdout",
     "output_type": "stream",
     "text": [
      "Random 3x3 matrix:\n",
      "[[0.40543251 0.93229598 0.85761681]\n",
      " [0.61233689 0.88360984 0.31839513]\n",
      " [0.67027704 0.00626277 0.20865457]]\n"
     ]
    }
   ],
   "source": [
    "import numpy as np\n",
    "\n",
    "# Generate a random 3x3 matrix with values between 0 and 1\n",
    "random_matrix = np.random.rand(3, 3)\n",
    "\n",
    "print(\"Random 3x3 matrix:\")\n",
    "print(random_matrix)\n"
   ]
  },
  {
   "cell_type": "markdown",
   "id": "05d515b0-39ce-4241-a8b8-b1c4c10065ec",
   "metadata": {},
   "source": [
    "# 8.Describe the difference between np.random.rand and np.random.randn?"
   ]
  },
  {
   "cell_type": "markdown",
   "id": "77549d7d-e5d1-45b8-bb22-43e335e54373",
   "metadata": {},
   "source": [
    "The functions np.random.rand and np.random.randn are both used in NumPy to generate arrays with random numbers, but they have key differences in how they distribute those random numbers.\n",
    "\n",
    "# np.random.rand\n",
    "* Distribution: Generates random values from a uniform distribution over the interval [0, 1).\n",
    "* Syntax: np.random.rand(d0, d1, ..., dn)\n",
    "# np.random.randn\n",
    "* Distribution: Generates random values from a standard normal distribution (mean 0, standard deviation 1).\n",
    "* Syntax: np.random.randn(d0, d1, ..., dn)\n",
    "* Generates an array of shape (d0, d1, ..., dn) where each element is drawn from a standard normal distribution (mean 0, standard deviation 1)."
   ]
  },
  {
   "cell_type": "code",
   "execution_count": 32,
   "id": "0d39071b-2ccd-4b76-8e6e-ad941fc1b291",
   "metadata": {},
   "outputs": [
    {
     "name": "stdout",
     "output_type": "stream",
     "text": [
      "[[0.78288326 0.87651432 0.840963  ]\n",
      " [0.47102142 0.49600356 0.87411343]]\n"
     ]
    }
   ],
   "source": [
    "#e.g to show np.random.rand\n",
    "\n",
    "import numpy as np\n",
    "\n",
    "# Generate a 2x3 array of random numbers between 0 and 1\n",
    "arr_rand = np.random.rand(2, 3)\n",
    "\n",
    "print(arr_rand)\n"
   ]
  },
  {
   "cell_type": "code",
   "execution_count": 33,
   "id": "538223b9-3fd7-4f1e-a744-a3f8f93b5dbd",
   "metadata": {},
   "outputs": [
    {
     "name": "stdout",
     "output_type": "stream",
     "text": [
      "[[-1.78259496  2.4947047  -2.04618377]\n",
      " [ 0.48426219  1.57398176 -0.28209986]]\n"
     ]
    }
   ],
   "source": [
    "# e.g to show np.random.randn\n",
    "\n",
    "import numpy as np\n",
    "\n",
    "# Generate a 2x3 array of random numbers from a standard normal distribution\n",
    "arr_randn = np.random.randn(2, 3)\n",
    "\n",
    "print(arr_randn)\n"
   ]
  },
  {
   "cell_type": "markdown",
   "id": "ffd714cc-2625-44fa-93d7-60a51ff86c1d",
   "metadata": {},
   "source": [
    "# 9. Write code to increase the dimension of the following array?\n",
    "[[1, 2, 3, 4]\n",
    "\n",
    "[5, 6, 7, 8],\n",
    "\n",
    "[9, 10, 11, 12]]"
   ]
  },
  {
   "cell_type": "code",
   "execution_count": 34,
   "id": "fd2893b0-59cf-4a1c-bf40-fe9c3ca66a05",
   "metadata": {},
   "outputs": [
    {
     "name": "stdout",
     "output_type": "stream",
     "text": [
      "Original Array Shape: (3, 4)\n",
      "Expanded Array Shape: (3, 4, 1)\n"
     ]
    }
   ],
   "source": [
    "import numpy as np\n",
    "\n",
    "# Given NumPy array\n",
    "arr = np.array([[1, 2, 3, 4],\n",
    "                [5, 6, 7, 8],\n",
    "                [9, 10, 11, 12]])\n",
    "\n",
    "# Method 1: Using np.newaxis to add a new axis (dimension)\n",
    "expanded_arr = arr[:, :, np.newaxis]\n",
    "\n",
    "print(\"Original Array Shape:\", arr.shape)        \n",
    "print(\"Expanded Array Shape:\", expanded_arr.shape)  \n"
   ]
  },
  {
   "cell_type": "markdown",
   "id": "86db0b31-4e29-4c20-9948-cb3da3e7714b",
   "metadata": {},
   "source": [
    "# 10. How to transpose the following array in NumPy?\n",
    "[[1, 2, 3, 4]\n",
    "\n",
    "[5, 6, 7, 8],\n",
    "\n",
    "[9, 10, 11, 12]]"
   ]
  },
  {
   "cell_type": "code",
   "execution_count": 35,
   "id": "9647f24c-3d8f-47a4-8573-aa8d4331f3b0",
   "metadata": {},
   "outputs": [
    {
     "name": "stdout",
     "output_type": "stream",
     "text": [
      "Original Array:\n",
      "[[ 1  2  3  4]\n",
      " [ 5  6  7  8]\n",
      " [ 9 10 11 12]]\n",
      "\n",
      "Transposed Array:\n",
      "[[ 1  5  9]\n",
      " [ 2  6 10]\n",
      " [ 3  7 11]\n",
      " [ 4  8 12]]\n"
     ]
    }
   ],
   "source": [
    "import numpy as np\n",
    "\n",
    "# Given NumPy array\n",
    "arr = np.array([[1, 2, 3, 4],\n",
    "                [5, 6, 7, 8],\n",
    "                [9, 10, 11, 12]])\n",
    "\n",
    "\n",
    "transposed_arr = np.transpose(arr)\n",
    "\n",
    "print(\"Original Array:\")\n",
    "print(arr)\n",
    "\n",
    "print(\"\\nTransposed Array:\")\n",
    "print(transposed_arr)\n"
   ]
  },
  {
   "cell_type": "markdown",
   "id": "488d136b-2eb9-4535-be74-c0b93797037c",
   "metadata": {},
   "source": [
    "# 11. Consider the following matrix:\n",
    "Matrix A2 [[1, 2, 3, 4] [5, 6, 7, 8],[9, 10, 11, 12]]\n",
    "\n",
    "Matrix B2 [[1, 2, 3, 4] [5, 6, 7, 8],[9, 10, 11, 12]]\n",
    "\n",
    "Perform the following operation using Python1\n",
    "\n",
    "1. index wise multiplication\n",
    "\n",
    "2. Matix multiplication\n",
    "\n",
    "3. Add both the matics\n",
    "\n",
    "4. Subtact matrix B from A\n",
    "\n",
    "5. Diide Matrix B by A"
   ]
  },
  {
   "cell_type": "code",
   "execution_count": 1,
   "id": "0df303f7-7072-4147-9005-f8fc3e88e794",
   "metadata": {},
   "outputs": [
    {
     "name": "stdout",
     "output_type": "stream",
     "text": [
      "Index wise multiplication:\n",
      " [[  1   4   9  16]\n",
      " [ 25  36  49  64]\n",
      " [ 81 100 121 144]]\n",
      "Matrix multiplication:\n",
      " [[ 30  70 110]\n",
      " [ 70 174 278]\n",
      " [110 278 446]]\n",
      "Addition of both matrices:\n",
      " [[ 2  4  6  8]\n",
      " [10 12 14 16]\n",
      " [18 20 22 24]]\n",
      "Subtraction of matrix B from A:\n",
      " [[0 0 0 0]\n",
      " [0 0 0 0]\n",
      " [0 0 0 0]]\n",
      "Division of Matrix B by A:\n",
      " [[1. 1. 1. 1.]\n",
      " [1. 1. 1. 1.]\n",
      " [1. 1. 1. 1.]]\n"
     ]
    }
   ],
   "source": [
    "import numpy as np\n",
    "\n",
    "# Define the matrices\n",
    "A = np.array([[1, 2, 3, 4], [5, 6, 7, 8], [9, 10, 11, 12]])\n",
    "B = np.array([[1, 2, 3, 4], [5, 6, 7, 8], [9, 10, 11, 12]])\n",
    "\n",
    "# 1. Index wise multiplication\n",
    "index_wise_multiplication = A * B\n",
    "\n",
    "# 2. Matrix multiplication\n",
    "matrix_multiplication = np.dot(A, B.T)  \n",
    "\n",
    "# 3. Add both matrices\n",
    "addition = A + B\n",
    "\n",
    "# 4. Subtract matrix B from A\n",
    "subtraction = A - B\n",
    "\n",
    "# 5. Divide Matrix B by A\n",
    "\n",
    "division = np.divide(B, A)\n",
    "\n",
    "# Print results\n",
    "print(\"Index wise multiplication:\\n\", index_wise_multiplication)\n",
    "print(\"Matrix multiplication:\\n\", matrix_multiplication)\n",
    "print(\"Addition of both matrices:\\n\", addition)\n",
    "print(\"Subtraction of matrix B from A:\\n\", subtraction)\n",
    "print(\"Division of Matrix B by A:\\n\", division)\n",
    "\n"
   ]
  },
  {
   "cell_type": "markdown",
   "id": "b957972f-fade-46cf-849c-505a50dbd3f4",
   "metadata": {},
   "source": [
    "# 12. Which function in Numpy can be use dto swap the byte order of an array?"
   ]
  },
  {
   "cell_type": "code",
   "execution_count": 2,
   "id": "69a7a4a8-d5e1-489b-9f74-80e408a90baf",
   "metadata": {},
   "outputs": [
    {
     "name": "stdout",
     "output_type": "stream",
     "text": [
      "Original array: [1 2 3 4]\n",
      "Original byte order: =\n",
      "Array with swapped byte order: [ 256  512  768 1024]\n",
      "Byte order after swap: =\n"
     ]
    }
   ],
   "source": [
    "# In NumPy, you can use the byteswap function to swap the byte order of an array. This function changes the byte order of the\n",
    "# elements in the array from the native byte order to the alternative byte order.\n",
    "\n",
    "import numpy as np\n",
    "\n",
    "# Create a NumPy array with a specific byte order\n",
    "arr = np.array([1, 2, 3, 4], dtype=np.int16)  # int16 uses 2 bytes per element\n",
    "\n",
    "print(\"Original array:\", arr)\n",
    "print(\"Original byte order:\", arr.dtype.byteorder)\n",
    "\n",
    "# Swap the byte order\n",
    "arr_swapped = arr.byteswap()\n",
    "\n",
    "print(\"Array with swapped byte order:\", arr_swapped)\n",
    "print(\"Byte order after swap:\", arr_swapped.dtype.byteorder)\n"
   ]
  },
  {
   "cell_type": "markdown",
   "id": "96b24632-3632-4d4c-b4f6-f61e33d88d5c",
   "metadata": {},
   "source": [
    "# 13. What is the significance of the np.linalg.inv function?\n",
    "\n",
    "The np.linalg.inv function in NumPy is used to compute the inverse of a square matrix. The inverse of a matrix 𝐴 ,A is a matrix 𝐴-1 such that when multiplied together, they yield the identity matrix I. In mathematical terms:\n",
    "\n",
    "𝐴.A-1 = A-1 .A = I\n",
    "\n",
    "# Significance and Usage:\n",
    "1. Solving Linear Systems: The inverse of a matrix is crucial for solving linear systems of equations of the form Ax=b. If A is invertible, you can find x by computing:\n",
    "\n",
    "x=A −1b\n",
    "\n",
    "2. Matrix Equations: In various mathematical and engineering applications, you might need to solve matrix equations or compute transformations. The matrix inverse is an essential tool in these contexts.\n",
    "\n",
    "3. Determining Matrix Properties: The inverse can help in understanding the properties of a matrix. For example, if a matrix is singular (non-invertible), it means it does not have full rank or has linearly dependent rows/columns.\n",
    "\n",
    "4. Numerical Methods: In numerical methods and algorithms, the inverse of a matrix is often used in optimization problems, control theory, and other fields."
   ]
  },
  {
   "cell_type": "code",
   "execution_count": 4,
   "id": "e4aff3e8-db16-4b25-bd4a-62b3764d942a",
   "metadata": {},
   "outputs": [
    {
     "name": "stdout",
     "output_type": "stream",
     "text": [
      "Matrix A:\n",
      " [[1 2]\n",
      " [3 4]]\n",
      "Inverse of Matrix A:\n",
      " [[-2.   1. ]\n",
      " [ 1.5 -0.5]]\n",
      "Product of A and its inverse:\n",
      " [[1.0000000e+00 0.0000000e+00]\n",
      " [8.8817842e-16 1.0000000e+00]]\n"
     ]
    }
   ],
   "source": [
    "# np.linalg.inv function\n",
    "import numpy as np\n",
    "\n",
    "# Define a square matrix\n",
    "A = np.array([[1, 2], [3, 4]])\n",
    "\n",
    "# Compute the inverse of the matrix\n",
    "A_inv = np.linalg.inv(A)\n",
    "\n",
    "print(\"Matrix A:\\n\", A)\n",
    "print(\"Inverse of Matrix A:\\n\", A_inv)\n",
    "\n",
    "# Verify the result by multiplying A with its inverse to get the identity matrix\n",
    "identity_matrix = np.dot(A, A_inv)\n",
    "print(\"Product of A and its inverse:\\n\", identity_matrix)\n"
   ]
  },
  {
   "cell_type": "markdown",
   "id": "3e90af5a-0256-4558-a644-e4e059e2f498",
   "metadata": {},
   "source": [
    "# 14. What does the np.reshape function do, and how is it used?\n",
    "\n",
    "The np.reshape function in NumPy is used to change the shape or dimensions of an existing array without changing its data. It allows you to create a new view of the data with a different shape, as long as the total number of elements remains the same.\n",
    "\n",
    "* Key Features of np.reshape:\n",
    "\n",
    "1. Change Dimensions: You can convert a 1-dimensional array into a 2-dimensional array, a 2-dimensional array into a 3-dimensional array, and so on, as long as the total number of elements remains consistent.\n",
    "\n",
    "2. Data Preservation: The data in the array is not modified; only the shape of the array is altered.\n",
    "\n",
    "3. Automatic Dimension Calculation: You can use -1 in one of the dimensions to let NumPy automatically calculate the size of that dimension based on the size of the other dimensions.\n",
    "\n"
   ]
  },
  {
   "cell_type": "code",
   "execution_count": 5,
   "id": "00de1f7c-4985-4c19-a428-350dca58c84c",
   "metadata": {},
   "outputs": [
    {
     "name": "stdout",
     "output_type": "stream",
     "text": [
      "Original array:\n",
      " [ 0  1  2  3  4  5  6  7  8  9 10 11]\n",
      "Reshaped to 2D array:\n",
      " [[ 0  1  2  3]\n",
      " [ 4  5  6  7]\n",
      " [ 8  9 10 11]]\n",
      "Reshaped to 3D array:\n",
      " [[[ 0  1]\n",
      "  [ 2  3]\n",
      "  [ 4  5]]\n",
      "\n",
      " [[ 6  7]\n",
      "  [ 8  9]\n",
      "  [10 11]]]\n",
      "Reshaped with automatic dimension:\n",
      " [[ 0  1  2  3]\n",
      " [ 4  5  6  7]\n",
      " [ 8  9 10 11]]\n"
     ]
    }
   ],
   "source": [
    "import numpy as np\n",
    "\n",
    "# Create a 1D array\n",
    "a = np.arange(12)\n",
    "print(\"Original array:\\n\", a)\n",
    "\n",
    "# Reshape it to a 2D array with 3 rows and 4 columns\n",
    "b = np.reshape(a, (3, 4))\n",
    "print(\"Reshaped to 2D array:\\n\", b)\n",
    "\n",
    "# Reshape it to a 3D array with 2 layers, 3 rows, and 2 columns\n",
    "c = np.reshape(a, (2, 3, 2))\n",
    "print(\"Reshaped to 3D array:\\n\", c)\n",
    "\n",
    "# Using -1 to automatically calculate one dimension\n",
    "d = np.reshape(a, (3, -1))  # Here -1 means NumPy will calculate the size of this dimension\n",
    "print(\"Reshaped with automatic dimension:\\n\", d)\n"
   ]
  },
  {
   "cell_type": "markdown",
   "id": "294533b7-a3f6-4e24-a4ff-49a2c3c54f27",
   "metadata": {},
   "source": [
    "# 15. What is broadcasting in Numpy?\n",
    "\n",
    "In NumPy, broadcasting is a powerful technique that allows operations between arrays of different shapes. It automatically expands the smaller array to match the shape of the larger array, so that element-wise operations can be performed efficiently without explicitly replicating data.\n",
    "\n",
    "* Rules for Broadcasting:\n",
    "\n",
    "* Rule 1: If the arrays have a different number of dimensions, the shape of the smaller-dimensional array is padded with ones on the left side until both shapes are the same length.\n",
    "* Rule 2: Two dimensions are compatible when:They are equal, or One of them is 1.\n",
    "* Rule 3: If the dimensions are not compatible, broadcasting fails, and an error is raised.\n"
   ]
  },
  {
   "cell_type": "code",
   "execution_count": 6,
   "id": "cace6284-ff76-4147-95ee-48d6d14ed8ad",
   "metadata": {},
   "outputs": [],
   "source": [
    "#e.g to show broadcasting:\n",
    "import numpy as np\n",
    "\n",
    "matrix = np.array([[1, 2, 3],\n",
    "                   [4, 5, 6]])\n",
    "\n",
    "vector = np.array([10, 20, 30])\n"
   ]
  },
  {
   "cell_type": "code",
   "execution_count": 8,
   "id": "440d92b8-1762-4a5c-adbf-91fe053fbdf7",
   "metadata": {},
   "outputs": [
    {
     "name": "stdout",
     "output_type": "stream",
     "text": [
      "[[11 22 33]\n",
      " [14 25 36]]\n"
     ]
    }
   ],
   "source": [
    "result = matrix + vector #The vector is broadcast across each row of the matrix.\n",
    "print(result)"
   ]
  },
  {
   "cell_type": "code",
   "execution_count": null,
   "id": "e413daba-f876-4e55-ba61-99cd711a289e",
   "metadata": {},
   "outputs": [],
   "source": []
  }
 ],
 "metadata": {
  "kernelspec": {
   "display_name": "Python 3 (ipykernel)",
   "language": "python",
   "name": "python3"
  },
  "language_info": {
   "codemirror_mode": {
    "name": "ipython",
    "version": 3
   },
   "file_extension": ".py",
   "mimetype": "text/x-python",
   "name": "python",
   "nbconvert_exporter": "python",
   "pygments_lexer": "ipython3",
   "version": "3.10.8"
  }
 },
 "nbformat": 4,
 "nbformat_minor": 5
}
